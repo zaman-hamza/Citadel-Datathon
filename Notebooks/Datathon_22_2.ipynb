{
 "cells": [
  {
   "cell_type": "code",
   "execution_count": null,
   "metadata": {},
   "outputs": [],
   "source": [
    "import pandas as pd\n",
    "import plotly.express as px\n",
    "import plotly.graph_objects as go\n",
    "import seaborn as sns\n",
    "austin_311_df = pd.read_csv(\"Final_City_Comparison_Datasets/Final_City_Comparison_Datasets/Austin_TX_311.csv\")\n",
    "WA_311_df = pd.read_csv(\"Final_City_Comparison_Datasets/Final_City_Comparison_Datasets/Washington_DC_311_2021_2022.csv\")\n",
    "NYC_311_df = pd.read_csv(\"Final_City_Comparison_Datasets/Final_City_Comparison_Datasets/New_York_NY_311.csv\")"
   ]
  },
  {
   "cell_type": "code",
   "execution_count": null,
   "metadata": {
    "scrolled": true
   },
   "outputs": [],
   "source": [
    "austin_311_df.head(100)"
   ]
  },
  {
   "cell_type": "code",
   "execution_count": null,
   "metadata": {},
   "outputs": [],
   "source": [
    "WA_311_df.head(100)"
   ]
  },
  {
   "cell_type": "code",
   "execution_count": null,
   "metadata": {},
   "outputs": [],
   "source": [
    "NYC_311_df.head(100)"
   ]
  },
  {
   "cell_type": "code",
   "execution_count": null,
   "metadata": {},
   "outputs": [],
   "source": [
    "austin_311_df['SR Description'].unique()"
   ]
  },
  {
   "cell_type": "code",
   "execution_count": null,
   "metadata": {},
   "outputs": [],
   "source": [
    "WA_311_df['SERVICECODEDESC'].unique()"
   ]
  },
  {
   "cell_type": "code",
   "execution_count": null,
   "metadata": {},
   "outputs": [],
   "source": [
    "NYC_311_df['Complaint Type'].unique()"
   ]
  },
  {
   "cell_type": "code",
   "execution_count": null,
   "metadata": {},
   "outputs": [],
   "source": [
    "traffic_issues = ['Pothole Repair', 'Austin Code - Signs/Billboards', 'Sign - Traffic Sign Emergency', 'Traffic Signal - Maintenance', 'Traffic Signal - Dig Tess Request', 'Lane/Road Closure Notification', 'Debris in Street', 'Traffic Calming', 'Traffic Signal - New/Change', 'Street Light Issue- Address', 'Sign - New', 'Street Lights New',\n",
    "       'Sign - Traffic Sign Maintenance', 'Speed Management', 'Speed Limit - Changes/Signs', 'Street Light Issue- Multiple poles/multiple streets', 'Traffic Engineering - Jurisdiction Issue']"
   ]
  },
  {
   "cell_type": "code",
   "execution_count": null,
   "metadata": {},
   "outputs": [],
   "source": [
    "traffic_issues_WA = ['Streetlight Repair Investigation', 'Roadway Signs', 'Pothole', 'Traffic Signal Issue', 'Roadway Striping / Markings', 'Roadway Repair', 'How Is My Driving - Complaint', 'Traffic Safety Investigation', 'DMV - Drivers License/ID Reinstatement', 'Snow/Ice Removal (Roadways AND Bridge walkways ONLY)',  'Snow Removal Complaints for Sidewalks', 'Snow Other (Snow Vehicle / Property Damage)', 'Snow Towing', 'How Is My Driving - Compliment']"
   ]
  },
  {
   "cell_type": "code",
   "execution_count": null,
   "metadata": {},
   "outputs": [],
   "source": [
    "traffic_issues_NYC = ['Traffic Signal Condition', 'Highway Condition', 'Street Sign - Dangling', 'Traffic', 'Highway Sign - Damaged', 'Highway Sign - Missing', 'Snow Removal', 'DEP Bridge Condition']"
   ]
  },
  {
   "cell_type": "code",
   "execution_count": null,
   "metadata": {},
   "outputs": [],
   "source": [
    "austin_traffic = austin_311_df[austin_311_df['SR Description'].isin(traffic_issues)]"
   ]
  },
  {
   "cell_type": "code",
   "execution_count": null,
   "metadata": {},
   "outputs": [],
   "source": [
    "WA_traffic = WA_311_df[WA_311_df['SERVICECODEDESC'].isin(traffic_issues_WA)]"
   ]
  },
  {
   "cell_type": "code",
   "execution_count": null,
   "metadata": {},
   "outputs": [],
   "source": [
    "NYC_traffic = NYC_311_df[NYC_311_df['Complaint Type'].isin(traffic_issues_NYC)]"
   ]
  },
  {
   "cell_type": "code",
   "execution_count": null,
   "metadata": {},
   "outputs": [],
   "source": [
    "fig = px.histogram(austin_traffic, x=\"SR Description\")\n",
    "\n",
    "fig.update_layout(\n",
    "    title=\"311 Calls - Frequency of Traffic Related Issues - Austin, TX\",\n",
    "    xaxis_title=\"Issues Related to Traffic\",\n",
    "    yaxis_title=\"Frequency\",\n",
    "    font=dict(\n",
    "        size=12,\n",
    "        color=\"RebeccaPurple\"\n",
    "    )\n",
    ")\n",
    "fig.show()"
   ]
  },
  {
   "cell_type": "code",
   "execution_count": null,
   "metadata": {},
   "outputs": [],
   "source": [
    "fig = px.histogram(WA_traffic, x=\"SERVICECODEDESC\")\n",
    "\n",
    "fig.update_layout(\n",
    "    title=\"311 Calls - Frequency of Traffic Related Issues - Washington, DC\",\n",
    "    xaxis_title=\"Issues Related to Traffic\",\n",
    "    yaxis_title=\"Frequency\",\n",
    "    font=dict(\n",
    "        size=12,\n",
    "        color=\"RebeccaPurple\"\n",
    "    )\n",
    ")\n",
    "fig.show()"
   ]
  },
  {
   "cell_type": "code",
   "execution_count": null,
   "metadata": {},
   "outputs": [],
   "source": [
    "fig = px.histogram(NYC_traffic, x=\"Complaint Type\")\n",
    "\n",
    "fig.update_layout(\n",
    "    title=\"311 Calls - Frequency of Traffic Related Issues - New York, NY\",\n",
    "    xaxis_title=\"Issues Related to Traffic\",\n",
    "    yaxis_title=\"Frequency\",\n",
    "    font=dict(\n",
    "        size=12,\n",
    "        color=\"RebeccaPurple\"\n",
    "    )\n",
    ")\n",
    "fig.show()"
   ]
  },
  {
   "cell_type": "code",
   "execution_count": null,
   "metadata": {},
   "outputs": [],
   "source": [
    "len_traffic_Issues_AU = len(austin_traffic)\n",
    "len_traffic_Issues_WA = len(WA_traffic)\n",
    "len_traffic_Issues_NYC = len(NYC_traffic)\n",
    "\n",
    "len_AU = len(austin_311_df)\n",
    "len_WA = len(WA_311_df)\n",
    "len_NYC = len(NYC_311_df)"
   ]
  },
  {
   "cell_type": "code",
   "execution_count": null,
   "metadata": {},
   "outputs": [],
   "source": [
    "d = {'City': [\"Austin, TX\", \"Washington, DC\", \"New York, NY\"], 'Traffic Issues': [len_traffic_Issues_AU, len_traffic_Issues_WA, len_traffic_Issues_NYC], 'Total Length': [len_AU, len_WA, len_NYC], 'Non-traffic Length': [len_AU - len_traffic_Issues_AU, len_WA - len_traffic_Issues_WA, len_NYC - len_traffic_Issues_NYC]}"
   ]
  },
  {
   "cell_type": "code",
   "execution_count": null,
   "metadata": {},
   "outputs": [],
   "source": [
    "Traffic_data = pd.DataFrame(data=d)"
   ]
  },
  {
   "cell_type": "code",
   "execution_count": null,
   "metadata": {},
   "outputs": [],
   "source": [
    "Traffic_data"
   ]
  },
  {
   "cell_type": "code",
   "execution_count": null,
   "metadata": {},
   "outputs": [],
   "source": [
    "import plotly.graph_objects as go"
   ]
  },
  {
   "cell_type": "code",
   "execution_count": null,
   "metadata": {},
   "outputs": [],
   "source": [
    "city=Traffic_data['City']\n",
    "\n",
    "fig = go.Figure(data=[\n",
    "    go.Bar(name='Traffic Issues', x=city, y=Traffic_data[\"Traffic Issues\"]),\n",
    "    go.Bar(name='Other Issues', x=city, y=Traffic_data[\"Non-traffic Length\"])\n",
    "])\n",
    "# Change the bar mode\n",
    "fig.update_layout(barmode='group')\n",
    "\n",
    "fig.update_layout(\n",
    "    title=\"Frequency of Traffic Related Issues vs Other Issues\",\n",
    "    xaxis_title=\"City\",\n",
    "    yaxis_title=\"Frequency\",\n",
    "    font=dict(\n",
    "        size=12,\n",
    "        color=\"RebeccaPurple\"\n",
    "    )\n",
    ")\n",
    "\n",
    "fig.show()"
   ]
  },
  {
   "cell_type": "code",
   "execution_count": null,
   "metadata": {},
   "outputs": [],
   "source": [
    "#Clean Data\n",
    "NYC_311_df = NYC_311_df[[\"Unique Key\", \"Complaint Type\", \"Borough\"]]\n",
    "NYC_311_df = NYC_311_df.dropna(axis = 0)\n",
    "\n",
    "# TODO: Filter Data based on Complaint Type\n",
    "\n",
    "# Plot\n",
    "sns.set(rc = {'figure.figsize':(15,8)})\n",
    "plot = sns.countplot(x = \"Borough\", data = NYC_311_df, hue = \"Borough\", palette = [\"red\", \"blue\", \"green\", \"orange\", \"brown\"])\n",
    "plot.set_xticklabels(plot.get_xticklabels(), size = 10)\n",
    "plot.set(title = 'Traffic 311 Calls per Burough in NY')"
   ]
  },
  {
   "cell_type": "code",
   "execution_count": null,
   "metadata": {},
   "outputs": [],
   "source": [
    "Traffic_data['Non-traffic Length'] / Traffic_data['Total Length']"
   ]
  },
  {
   "cell_type": "code",
   "execution_count": null,
   "metadata": {},
   "outputs": [],
   "source": [
    "Traffic_data['Traffic Issues'] / Traffic_data['Total Length']"
   ]
  },
  {
   "cell_type": "code",
   "execution_count": null,
   "metadata": {},
   "outputs": [],
   "source": [
    "#Clean Data\n",
    "NYC_traffic = NYC_traffic[[\"Unique Key\", \"Complaint Type\", \"Borough\"]]\n",
    "NYC_traffic = NYC_traffic.dropna(axis = 0)\n",
    "NYC_traffic = NYC_traffic.sort_values(axis = 0, by = \"Borough\")\n",
    "\n",
    "# TODO: Filter Data based on Complaint Type\n",
    "\n",
    "# Plot\n",
    "sns.set(rc = {'figure.figsize':(15,8)})\n",
    "sns.set(font_scale = 1)\n",
    "plot = sns.countplot(x = \"Borough\", data = NYC_traffic, hue = \"Borough\", palette = [\"red\", \"blue\", \"black\", \"orange\", \"brown\", \"black\"])plot.set_xticklabels(plot.get_xticklabels())\n",
    "plot.set(title = 'Traffic 311 Calls per Burough in NY')"
   ]
  }
 ],
 "metadata": {
  "kernelspec": {
   "display_name": "Python 3",
   "language": "python",
   "name": "python3"
  },
  "language_info": {
   "codemirror_mode": {
    "name": "ipython",
    "version": 3
   },
   "file_extension": ".py",
   "mimetype": "text/x-python",
   "name": "python",
   "nbconvert_exporter": "python",
   "pygments_lexer": "ipython3",
   "version": "3.7.6"
  }
 },
 "nbformat": 4,
 "nbformat_minor": 4
}
